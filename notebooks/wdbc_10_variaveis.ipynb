{
 "cells": [
  {
   "cell_type": "code",
   "execution_count": 1,
   "id": "0b89775e-4db0-49b6-9112-b9fd97b4c90e",
   "metadata": {},
   "outputs": [
    {
     "name": "stdout",
     "output_type": "stream",
     "text": [
      "Python: 3.13.5 (tags/v3.13.5:6cb20a2, Jun 11 2025, 16:15:46) [MSC v.1943 64 bit (AMD64)]\n",
      "sklearn: 1.7.1\n"
     ]
    }
   ],
   "source": [
    "# A1) Imports e versão\n",
    "import sys, os, json, joblib, numpy as np, pandas as pd\n",
    "import matplotlib.pyplot as plt\n",
    "import seaborn as sns\n",
    "from pathlib import Path\n",
    "from pprint import pprint\n",
    "\n",
    "import sklearn\n",
    "from sklearn.datasets import load_breast_cancer\n",
    "from sklearn.model_selection import train_test_split, StratifiedKFold, cross_val_score\n",
    "from sklearn.preprocessing import StandardScaler\n",
    "from sklearn.impute import SimpleImputer\n",
    "from sklearn.compose import ColumnTransformer\n",
    "from sklearn.pipeline import Pipeline\n",
    "from sklearn.linear_model import LogisticRegression\n",
    "from sklearn.ensemble import RandomForestClassifier\n",
    "from sklearn.inspection import permutation_importance\n",
    "from sklearn.metrics import (roc_auc_score, roc_curve, precision_recall_curve,\n",
    "                             accuracy_score, f1_score, confusion_matrix, classification_report)\n",
    "\n",
    "np.random.seed(42)\n",
    "print(\"Python:\", sys.version)\n",
    "print(\"sklearn:\", sklearn.__version__)\n"
   ]
  },
  {
   "cell_type": "code",
   "execution_count": 2,
   "id": "f6d1632b-1615-459e-b995-bf04292ef0ce",
   "metadata": {},
   "outputs": [
    {
     "data": {
      "text/plain": [
       "((569, 30),\n",
       " Benigno    0.627\n",
       " Maligno    0.373\n",
       " Name: proportion, dtype: float64)"
      ]
     },
     "execution_count": 2,
     "metadata": {},
     "output_type": "execute_result"
    }
   ],
   "source": [
    "# B1) Carregar WDBC (as_frame=True para DataFrame)\n",
    "data = load_breast_cancer(as_frame=True)\n",
    "X_full = data.frame[data.feature_names].copy()\n",
    "y_num = data.target.copy()                # 0=malignant, 1=benign\n",
    "y = np.where(y_num==0, \"Maligno\", \"Benigno\")  # mapeia p/ strings (consistente com a API)\n",
    "\n",
    "X_full.shape, pd.Series(y).value_counts(normalize=True).round(3)\n"
   ]
  },
  {
   "cell_type": "code",
   "execution_count": 3,
   "id": "095ccbec-b2a2-423b-80a7-2b8745b69ecd",
   "metadata": {},
   "outputs": [
    {
     "data": {
      "text/plain": [
       "((455, 30), (114, 30))"
      ]
     },
     "execution_count": 3,
     "metadata": {},
     "output_type": "execute_result"
    }
   ],
   "source": [
    "# C1) Train/Test estratificado (20% teste)\n",
    "X_train, X_test, y_train, y_test = train_test_split(\n",
    "    X_full, y, test_size=0.2, stratify=y, random_state=42\n",
    ")\n",
    "X_train.shape, X_test.shape\n"
   ]
  },
  {
   "cell_type": "code",
   "execution_count": 4,
   "id": "8faed31d-2bd5-403c-94b8-b80e09eb0972",
   "metadata": {},
   "outputs": [
    {
     "data": {
      "text/html": [
       "<div>\n",
       "<style scoped>\n",
       "    .dataframe tbody tr th:only-of-type {\n",
       "        vertical-align: middle;\n",
       "    }\n",
       "\n",
       "    .dataframe tbody tr th {\n",
       "        vertical-align: top;\n",
       "    }\n",
       "\n",
       "    .dataframe thead th {\n",
       "        text-align: right;\n",
       "    }\n",
       "</style>\n",
       "<table border=\"1\" class=\"dataframe\">\n",
       "  <thead>\n",
       "    <tr style=\"text-align: right;\">\n",
       "      <th></th>\n",
       "      <th>rank_mi</th>\n",
       "      <th>rank_rf</th>\n",
       "      <th>rank_logcoef</th>\n",
       "      <th>rank_sum</th>\n",
       "    </tr>\n",
       "  </thead>\n",
       "  <tbody>\n",
       "    <tr>\n",
       "      <th>worst area</th>\n",
       "      <td>3.0</td>\n",
       "      <td>2.0</td>\n",
       "      <td>6.0</td>\n",
       "      <td>11.0</td>\n",
       "    </tr>\n",
       "    <tr>\n",
       "      <th>mean concave points</th>\n",
       "      <td>4.0</td>\n",
       "      <td>5.0</td>\n",
       "      <td>4.0</td>\n",
       "      <td>13.0</td>\n",
       "    </tr>\n",
       "    <tr>\n",
       "      <th>worst radius</th>\n",
       "      <td>1.0</td>\n",
       "      <td>4.0</td>\n",
       "      <td>9.0</td>\n",
       "      <td>14.0</td>\n",
       "    </tr>\n",
       "    <tr>\n",
       "      <th>worst perimeter</th>\n",
       "      <td>2.0</td>\n",
       "      <td>1.0</td>\n",
       "      <td>12.0</td>\n",
       "      <td>15.0</td>\n",
       "    </tr>\n",
       "    <tr>\n",
       "      <th>worst concave points</th>\n",
       "      <td>5.0</td>\n",
       "      <td>3.0</td>\n",
       "      <td>13.0</td>\n",
       "      <td>21.0</td>\n",
       "    </tr>\n",
       "    <tr>\n",
       "      <th>area error</th>\n",
       "      <td>10.0</td>\n",
       "      <td>10.0</td>\n",
       "      <td>5.0</td>\n",
       "      <td>25.0</td>\n",
       "    </tr>\n",
       "    <tr>\n",
       "      <th>mean concavity</th>\n",
       "      <td>9.0</td>\n",
       "      <td>8.0</td>\n",
       "      <td>10.0</td>\n",
       "      <td>27.0</td>\n",
       "    </tr>\n",
       "    <tr>\n",
       "      <th>worst texture</th>\n",
       "      <td>16.0</td>\n",
       "      <td>12.0</td>\n",
       "      <td>1.0</td>\n",
       "      <td>29.0</td>\n",
       "    </tr>\n",
       "    <tr>\n",
       "      <th>worst concavity</th>\n",
       "      <td>11.0</td>\n",
       "      <td>11.0</td>\n",
       "      <td>8.0</td>\n",
       "      <td>30.0</td>\n",
       "    </tr>\n",
       "    <tr>\n",
       "      <th>radius error</th>\n",
       "      <td>13.0</td>\n",
       "      <td>16.0</td>\n",
       "      <td>2.0</td>\n",
       "      <td>31.0</td>\n",
       "    </tr>\n",
       "    <tr>\n",
       "      <th>mean area</th>\n",
       "      <td>7.0</td>\n",
       "      <td>9.0</td>\n",
       "      <td>17.0</td>\n",
       "      <td>33.0</td>\n",
       "    </tr>\n",
       "    <tr>\n",
       "      <th>mean perimeter</th>\n",
       "      <td>6.0</td>\n",
       "      <td>7.0</td>\n",
       "      <td>22.0</td>\n",
       "      <td>35.0</td>\n",
       "    </tr>\n",
       "    <tr>\n",
       "      <th>mean radius</th>\n",
       "      <td>8.0</td>\n",
       "      <td>6.0</td>\n",
       "      <td>21.0</td>\n",
       "      <td>35.0</td>\n",
       "    </tr>\n",
       "    <tr>\n",
       "      <th>worst symmetry</th>\n",
       "      <td>18.0</td>\n",
       "      <td>15.0</td>\n",
       "      <td>3.0</td>\n",
       "      <td>36.0</td>\n",
       "    </tr>\n",
       "    <tr>\n",
       "      <th>perimeter error</th>\n",
       "      <td>12.0</td>\n",
       "      <td>19.0</td>\n",
       "      <td>11.0</td>\n",
       "      <td>42.0</td>\n",
       "    </tr>\n",
       "  </tbody>\n",
       "</table>\n",
       "</div>"
      ],
      "text/plain": [
       "                      rank_mi  rank_rf  rank_logcoef  rank_sum\n",
       "worst area                3.0      2.0           6.0      11.0\n",
       "mean concave points       4.0      5.0           4.0      13.0\n",
       "worst radius              1.0      4.0           9.0      14.0\n",
       "worst perimeter           2.0      1.0          12.0      15.0\n",
       "worst concave points      5.0      3.0          13.0      21.0\n",
       "area error               10.0     10.0           5.0      25.0\n",
       "mean concavity            9.0      8.0          10.0      27.0\n",
       "worst texture            16.0     12.0           1.0      29.0\n",
       "worst concavity          11.0     11.0           8.0      30.0\n",
       "radius error             13.0     16.0           2.0      31.0\n",
       "mean area                 7.0      9.0          17.0      33.0\n",
       "mean perimeter            6.0      7.0          22.0      35.0\n",
       "mean radius               8.0      6.0          21.0      35.0\n",
       "worst symmetry           18.0     15.0           3.0      36.0\n",
       "perimeter error          12.0     19.0          11.0      42.0"
      ]
     },
     "execution_count": 4,
     "metadata": {},
     "output_type": "execute_result"
    }
   ],
   "source": [
    "from sklearn.feature_selection import mutual_info_classif\n",
    "\n",
    "features = list(X_train.columns)\n",
    "\n",
    "# D1) Mutual Information (univariado)\n",
    "mi = mutual_info_classif(X_train[features], y_train, discrete_features=False, random_state=42)\n",
    "rank_mi = pd.Series(mi, index=features).sort_values(ascending=False)\n",
    "\n",
    "# D2) RandomForest importances\n",
    "rf = RandomForestClassifier(\n",
    "    n_estimators=600, max_depth=None, n_jobs=-1, random_state=42, class_weight=None\n",
    ")\n",
    "rf.fit(X_train, y_train)\n",
    "rf_imp = pd.Series(rf.feature_importances_, index=features).sort_values(ascending=False)\n",
    "\n",
    "# D3) Logistic Regression (coeficientes absolutos) COM pipeline (imputer+scaler)\n",
    "log_pipe = Pipeline([\n",
    "    (\"prep\", ColumnTransformer([\n",
    "        (\"num\", Pipeline([\n",
    "            (\"imputer\", SimpleImputer(strategy=\"median\")),\n",
    "            (\"scaler\", StandardScaler())\n",
    "        ]), features)\n",
    "    ], remainder=\"drop\")),\n",
    "    (\"clf\", LogisticRegression(max_iter=2000, solver=\"liblinear\"))\n",
    "])\n",
    "log_pipe.fit(X_train, y_train)\n",
    "# extrair coeficientes\n",
    "log_coef = pd.Series(\n",
    "    np.abs(log_pipe.named_steps[\"clf\"].coef_[0]),\n",
    "    index=features\n",
    ").sort_values(ascending=False)\n",
    "\n",
    "# D4) Consolida rankings por soma de posições\n",
    "def ranks(series_desc):\n",
    "    # retorna posição (1=mais importante) para cada feature\n",
    "    return series_desc.rank(ascending=False, method=\"min\")\n",
    "\n",
    "rank_df = pd.DataFrame({\n",
    "    \"rank_mi\": ranks(rank_mi),\n",
    "    \"rank_rf\": ranks(rf_imp),\n",
    "    \"rank_logcoef\": ranks(log_coef),\n",
    "})\n",
    "rank_df[\"rank_sum\"] = rank_df.sum(axis=1)\n",
    "rank_df = rank_df.sort_values(\"rank_sum\")\n",
    "\n",
    "# Top-15 para inspeção\n",
    "rank_df.head(15)\n"
   ]
  },
  {
   "cell_type": "code",
   "execution_count": 5,
   "id": "2bb78c96-2e7e-4f41-af77-9b7eea63a618",
   "metadata": {},
   "outputs": [
    {
     "data": {
      "text/plain": [
       "['worst area',\n",
       " 'mean concave points',\n",
       " 'worst radius',\n",
       " 'worst perimeter',\n",
       " 'worst concave points',\n",
       " 'area error',\n",
       " 'mean concavity',\n",
       " 'worst texture',\n",
       " 'worst concavity',\n",
       " 'radius error']"
      ]
     },
     "execution_count": 5,
     "metadata": {},
     "output_type": "execute_result"
    }
   ],
   "source": [
    "TOP_K = 10\n",
    "selected = list(rank_df.index[:TOP_K])\n",
    "selected\n"
   ]
  },
  {
   "cell_type": "code",
   "execution_count": 6,
   "id": "7c670109-a94b-4971-b643-25a65aabd2d0",
   "metadata": {},
   "outputs": [
    {
     "name": "stdout",
     "output_type": "stream",
     "text": [
      "[CV] AUC=0.9953 | ACC=0.9626\n",
      "[TEST] ROC-AUC=0.9960\n"
     ]
    }
   ],
   "source": [
    "# E1) Pipeline final (somente as 10 selecionadas)\n",
    "prep = ColumnTransformer(\n",
    "    transformers=[\n",
    "        (\"num\", Pipeline([\n",
    "            (\"imputer\", SimpleImputer(strategy=\"median\")),\n",
    "            (\"scaler\", StandardScaler())\n",
    "        ]), selected)\n",
    "    ],\n",
    "    remainder=\"drop\"\n",
    ")\n",
    "clf = LogisticRegression(max_iter=2000, solver=\"liblinear\")\n",
    "pipe = Pipeline([(\"prep\", prep), (\"clf\", clf)])\n",
    "\n",
    "# E2) Validação cruzada no TRAIN\n",
    "cv = StratifiedKFold(n_splits=5, shuffle=True, random_state=42)\n",
    "auc_cv = cross_val_score(pipe, X_train[selected], y_train, cv=cv, scoring=\"roc_auc\", n_jobs=-1).mean()\n",
    "acc_cv = cross_val_score(pipe, X_train[selected], y_train, cv=cv, scoring=\"accuracy\", n_jobs=-1).mean()\n",
    "print(f\"[CV] AUC={auc_cv:.4f} | ACC={acc_cv:.4f}\")\n",
    "\n",
    "# E3) Fit final no TRAIN e avaliação no TEST\n",
    "pipe.fit(X_train[selected], y_train)\n",
    "\n",
    "proba_test = pipe.predict_proba(X_test[selected])\n",
    "# índice da classe 'Maligno' (robusto a ordem interna)\n",
    "classes = list(pipe.named_steps[\"clf\"].classes_)\n",
    "idx_m = next((i for i,c in enumerate(classes) if str(c).lower().startswith(\"malign\")), 0)\n",
    "p_mal = proba_test[:, idx_m]\n",
    "\n",
    "auc_test = roc_auc_score((y_test==\"Maligno\").astype(int), p_mal)\n",
    "print(f\"[TEST] ROC-AUC={auc_test:.4f}\")\n"
   ]
  },
  {
   "cell_type": "code",
   "execution_count": 8,
   "id": "bbfed76e-78fa-4f19-82ea-56df4cb6b6f1",
   "metadata": {},
   "outputs": [
    {
     "name": "stdout",
     "output_type": "stream",
     "text": [
      "Sugeridos:\n",
      " - Youden J : {'thr': 0.6156924870936324, 'acc': 0.9736842105263158, 'f1': 0.963855421686747, 'recall': np.float64(0.9523809523809523), 'auc': 0.996031746031746}\n",
      " - F1       : {'thr': 0.42654057607833834, 'acc': 0.9649122807017544, 'f1': 0.9523809523809523, 'recall': np.float64(0.9523809523809523), 'auc': 0.996031746031746}\n",
      " - Recall95 : {'thr': 9.761205887260085e-06, 'acc': 0.3684210526315789, 'f1': 0.5384615384615384, 'recall': np.float64(1.0), 'auc': 0.996031746031746}\n"
     ]
    }
   ],
   "source": [
    "y_true = (y_test == \"Maligno\").astype(int)\n",
    "\n",
    "fpr, tpr, thr_roc = roc_curve(y_true, p_mal)\n",
    "prec, rec, thr_pr = precision_recall_curve(y_true, p_mal)\n",
    "\n",
    "# 1) Youden J\n",
    "youden = tpr - fpr\n",
    "t_idx = np.argmax(youden)\n",
    "thr_youden = thr_roc[t_idx]\n",
    "\n",
    "# 2) Melhor F1 no PR-curve\n",
    "# obs: thr_pr tem len = len(prec)-1\n",
    "f1s = 2 * prec * rec / (prec + rec + 1e-9)\n",
    "f1_idx = np.nanargmax(f1s)\n",
    "thr_f1 = thr_pr[max(f1_idx - 1, 0)]\n",
    "\n",
    "# 3) Recall alvo (>= 0.95) com melhor precisão\n",
    "RECALL_TARGET = 0.95\n",
    "mask = rec[1:] >= RECALL_TARGET  # alinhar tamanho com thr_pr\n",
    "thr_recall = thr_pr[mask][0] if mask.any() else 0.5\n",
    "\n",
    "def eval_at(thr):\n",
    "    y_hat = (p_mal >= thr).astype(int)\n",
    "    return dict(\n",
    "        thr=float(thr),\n",
    "        acc=accuracy_score(y_true, y_hat),\n",
    "        f1=f1_score(y_true, y_hat),\n",
    "        recall=(y_true[y_hat == 1].sum() / y_true.sum()) if y_true.sum() else 0.0,\n",
    "        auc=float(auc_test)\n",
    "    )\n",
    "\n",
    "print(\"Sugeridos:\")\n",
    "print(\" - Youden J :\", eval_at(thr_youden))\n",
    "print(\" - F1       :\", eval_at(thr_f1))\n",
    "print(\" - Recall95 :\", eval_at(thr_recall))\n"
   ]
  },
  {
   "cell_type": "code",
   "execution_count": 9,
   "id": "6c37cf0d-f097-40bb-9a61-69ceab5bf727",
   "metadata": {},
   "outputs": [
    {
     "data": {
      "image/png": "[encoded data removed]",
      "text/plain": [
       "<Figure size 640x480 with 1 Axes>"
      ]
     },
     "metadata": {},
     "output_type": "display_data"
    },
    {
     "data": {
      "image/png": "[encoded data removed]",
      "text/plain": [
       "<Figure size 640x480 with 1 Axes>"
      ]
     },
     "metadata": {},
     "output_type": "display_data"
    },
    {
     "data": {
      "image/png": "[encoded data removed]",
      "text/plain": [
       "<Figure size 640x480 with 1 Axes>"
      ]
     },
     "metadata": {},
     "output_type": "display_data"
    },
    {
     "name": "stdout",
     "output_type": "stream",
     "text": [
      "              precision    recall  f1-score   support\n",
      "\n",
      "     Benigno       0.97      0.97      0.97        72\n",
      "     Maligno       0.95      0.95      0.95        42\n",
      "\n",
      "    accuracy                           0.96       114\n",
      "   macro avg       0.96      0.96      0.96       114\n",
      "weighted avg       0.96      0.96      0.96       114\n",
      "\n",
      "Use este THRESHOLD no .env do backend: 0.42654057607833834\n"
     ]
    }
   ],
   "source": [
    "# ROC\n",
    "plt.figure()\n",
    "plt.plot(fpr, tpr, label=f\"AUC={auc_test:.3f}\")\n",
    "plt.plot([0,1],[0,1],'--',alpha=.5)\n",
    "plt.xlabel(\"FPR (1-Especificidade)\"); plt.ylabel(\"TPR (Sensibilidade)\"); plt.title(\"ROC Curve\")\n",
    "plt.legend(); plt.show()\n",
    "\n",
    "# PR\n",
    "plt.figure()\n",
    "plt.plot(rec, prec)\n",
    "plt.xlabel(\"Recall\"); plt.ylabel(\"Precision\"); plt.title(\"Precision-Recall Curve\")\n",
    "plt.show()\n",
    "\n",
    "# Matriz de confusão no threshold escolhido (ex.: F1)\n",
    "thr = float(thr_f1)   # <-- ajuste se escolher outro\n",
    "y_hat = (p_mal >= thr).astype(int)\n",
    "cm = confusion_matrix(y_true, y_hat)\n",
    "sns.heatmap(cm, annot=True, fmt=\"d\", cmap=\"Blues\", cbar=False,\n",
    "            xticklabels=[\"Pred. Benigno\",\"Pred. Maligno\"],\n",
    "            yticklabels=[\"Real Benigno\",\"Real Maligno\"])\n",
    "plt.title(f\"Confusion Matrix @ thr={thr:.3f}\")\n",
    "plt.show()\n",
    "\n",
    "print(classification_report(y_true, y_hat, target_names=[\"Benigno\",\"Maligno\"]))\n",
    "print(\"Use este THRESHOLD no .env do backend:\", thr)\n"
   ]
  },
  {
   "cell_type": "code",
   "execution_count": 11,
   "id": "d1e225b2-fd38-41ae-9f91-bf0f2d7e9bfd",
   "metadata": {},
   "outputs": [
    {
     "name": "stdout",
     "output_type": "stream",
     "text": [
      "[OK] Artefatos salvos em C:\\Users\\DAVI LOPES\\Desktop\\Pós Tech\\tech-challenge\\notebooks\\backend\\models\n"
     ]
    }
   ],
   "source": [
    "# H1) Treinar pipeline final com TODA A BASE (opcional)\n",
    "#    Se preferir manter holdout, comente esta célula.\n",
    "pipe.fit(X_full[selected], y)\n",
    "\n",
    "# H2) Paths\n",
    "base = Path(\".\")\n",
    "models_dir = base/\"backend\"/\"models\"\n",
    "models_dir.mkdir(parents=True, exist_ok=True)\n",
    "\n",
    "# H3) Salvar modelo\n",
    "joblib.dump(pipe, models_dir/\"best_model.pkl\")\n",
    "\n",
    "# H4) Salvar lista de features (ordem)\n",
    "with open(models_dir/\"selected_features.json\", \"w\", encoding=\"utf-8\") as f:\n",
    "    json.dump({\"selected_features\": selected}, f, ensure_ascii=False, indent=2)\n",
    "\n",
    "# H5) Exemplos medianos reais (para botões do front)\n",
    "df = X_full[selected].copy()\n",
    "df[\"label\"] = y\n",
    "stats = df.groupby(\"label\").median(numeric_only=True)\n",
    "\n",
    "benign = [float(stats.loc[\"Benigno\", c]) for c in selected]\n",
    "malign = [float(stats.loc[\"Maligno\", c]) for c in selected]\n",
    "\n",
    "with open(models_dir/\"examples_10.json\", \"w\", encoding=\"utf-8\") as f:\n",
    "    json.dump({\n",
    "        \"selected_features\": selected,\n",
    "        \"benign_median\": benign,\n",
    "        \"malignant_median\": malign\n",
    "    }, f, ensure_ascii=False, indent=2)\n",
    "\n",
    "print(\"[OK] Artefatos salvos em\", models_dir.resolve())\n"
   ]
  },
  {
   "cell_type": "code",
   "execution_count": 12,
   "id": "5cbe51a4-01ac-4165-8417-97714a6251e7",
   "metadata": {},
   "outputs": [
    {
     "name": "stdout",
     "output_type": "stream",
     "text": [
      "p(Maligno)= 0.0002594937060203394\n",
      "Diagnóstico @thr: Benigno\n"
     ]
    }
   ],
   "source": [
    "m = joblib.load(models_dir/\"best_model.pkl\")\n",
    "sample = X_test[selected].iloc[[0]]\n",
    "proba = m.predict_proba(sample)[0]\n",
    "classes = list(m.named_steps[\"clf\"].classes_)\n",
    "idx_m = next((i for i,c in enumerate(classes) if str(c).lower().startswith(\"malign\")), 0)\n",
    "print(\"p(Maligno)=\", float(proba[idx_m]))\n",
    "print(\"Diagnóstico @thr:\", \"Maligno\" if proba[idx_m]>=thr else \"Benigno\")\n"
   ]
  },
  {
   "cell_type": "code",
   "execution_count": 13,
   "id": "06ee68b0-b6ea-4c26-8f8a-5d19bbe2b4f8",
   "metadata": {},
   "outputs": [
    {
     "name": "stdout",
     "output_type": "stream",
     "text": [
      "10\n",
      "['worst area' 'mean concave points' 'worst radius' 'worst perimeter'\n",
      " 'worst concave points' 'area error' 'mean concavity' 'worst texture'\n",
      " 'worst concavity' 'radius error']\n"
     ]
    }
   ],
   "source": [
    "import joblib\n",
    "model = joblib.load(\"backend/models/best_model.pkl\")\n",
    "print(model.n_features_in_)\n",
    "print(model.feature_names_in_)\n"
   ]
  },
  {
   "cell_type": "code",
   "execution_count": null,
   "id": "9e39ed79-83f8-49b0-a89e-908497b59210",
   "metadata": {},
   "outputs": [],
   "source": []
  }
 ],
 "metadata": {
  "kernelspec": {
   "display_name": "Python 3 (ipykernel)",
   "language": "python",
   "name": "python3"
  },
  "language_info": {
   "codemirror_mode": {
    "name": "ipython",
    "version": 3
   },
   "file_extension": ".py",
   "mimetype": "text/x-python",
   "name": "python",
   "nbconvert_exporter": "python",
   "pygments_lexer": "ipython3",
   "version": "3.13.5"
  }
 },
 "nbformat": 4,
 "nbformat_minor": 5
}
